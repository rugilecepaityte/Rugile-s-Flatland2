{
  "nbformat": 4,
  "nbformat_minor": 0,
  "metadata": {
    "colab": {
      "provenance": []
    },
    "kernelspec": {
      "name": "python3",
      "display_name": "Python 3"
    },
    "language_info": {
      "name": "python"
    }
  },
  "cells": [
    {
      "cell_type": "code",
      "source": [
        "import numpy as np\n",
        "import matplotlib.pyplot as plt\n",
        "from tensorflow.keras.utils import to_categorical\n",
        "from sklearn.model_selection import train_test_split\n",
        "from tensorflow.keras.models import Sequential\n",
        "from tensorflow.keras.layers import Conv2D, MaxPooling2D, Flatten, Dense, Dropout, BatchNormalization\n",
        "from tensorflow.keras.preprocessing.image import ImageDataGenerator\n",
        "\n",
        "\n",
        "data = np.load('flatland_train.npz') # Load the npz file\n",
        "X = data['X'] / 255.  # Scale to [0, 1]\n",
        "y = to_categorical(data['y'] - 2, num_classes=6)  # Adjust labels\n",
        "X_reshaped = X.reshape(X.shape[0], X.shape[1], X.shape[2], 1)\n",
        "\n",
        "# Now, split the reshaped data\n",
        "X_train, X_val, y_train, y_val = train_test_split(X_reshaped, y, test_size=0.2, random_state=42)\n"
      ],
      "metadata": {
        "id": "0D9J5Qs7byha"
      },
      "execution_count": 4,
      "outputs": []
    },
    {
      "cell_type": "code",
      "source": [
        "# Data augmentation\n",
        "datagen = ImageDataGenerator(\n",
        "    rotation_range=20,\n",
        "    width_shift_range=0.2,\n",
        "    height_shift_range=0.2,\n",
        "    shear_range=0.2,\n",
        "    zoom_range=0.2,\n",
        "    horizontal_flip=True,\n",
        "    fill_mode='nearest')"
      ],
      "metadata": {
        "id": "yoIGZs-jeUUp"
      },
      "execution_count": 5,
      "outputs": []
    },
    {
      "cell_type": "code",
      "source": [
        "# Build model\n",
        "model = Sequential([\n",
        "    Conv2D(32, (3, 3), activation='relu', input_shape=(50, 50, 1)),\n",
        "    MaxPooling2D(2, 2),\n",
        "    BatchNormalization(),\n",
        "\n",
        "    Conv2D(64, (3, 3), activation='relu'),\n",
        "    MaxPooling2D(2, 2),\n",
        "    BatchNormalization(),\n",
        "\n",
        "    Flatten(),\n",
        "    Dense(128, activation='relu'),\n",
        "    Dropout(0.5),\n",
        "    Dense(6, activation='softmax')  # 6 classes\n",
        "])\n",
        "# Compile model\n",
        "model.compile(optimizer='adam', loss='categorical_crossentropy', metrics=['accuracy'])\n"
      ],
      "metadata": {
        "id": "-NvPe7EGZt1C"
      },
      "execution_count": 6,
      "outputs": []
    },
    {
      "cell_type": "code",
      "source": [
        "# Train model with data augmentation\n",
        "history = model.fit(datagen.flow(X_train, y_train, batch_size=32),\n",
        "                    validation_data=(X_val, y_val),\n",
        "                    epochs=30)  # Increased epochs"
      ],
      "metadata": {
        "id": "_Yb614QRZt6C",
        "colab": {
          "base_uri": "https://localhost:8080/"
        },
        "outputId": "a3eed4ac-00e2-49c2-fbd0-04e241dc65cb"
      },
      "execution_count": 7,
      "outputs": [
        {
          "output_type": "stream",
          "name": "stdout",
          "text": [
            "Epoch 1/30\n",
            "250/250 [==============================] - 19s 71ms/step - loss: 1.6197 - accuracy: 0.4333 - val_loss: 1.3170 - val_accuracy: 0.3150\n",
            "Epoch 2/30\n",
            "250/250 [==============================] - 19s 74ms/step - loss: 1.0974 - accuracy: 0.5406 - val_loss: 1.3272 - val_accuracy: 0.3260\n",
            "Epoch 3/30\n",
            "250/250 [==============================] - 17s 70ms/step - loss: 0.8957 - accuracy: 0.6212 - val_loss: 1.2532 - val_accuracy: 0.3340\n",
            "Epoch 4/30\n",
            "250/250 [==============================] - 19s 78ms/step - loss: 0.7367 - accuracy: 0.7036 - val_loss: 0.5377 - val_accuracy: 0.7705\n",
            "Epoch 5/30\n",
            "250/250 [==============================] - 18s 70ms/step - loss: 0.6431 - accuracy: 0.7580 - val_loss: 0.3753 - val_accuracy: 0.8825\n",
            "Epoch 6/30\n",
            "250/250 [==============================] - 18s 70ms/step - loss: 0.5773 - accuracy: 0.7985 - val_loss: 0.5158 - val_accuracy: 0.8020\n",
            "Epoch 7/30\n",
            "250/250 [==============================] - 17s 69ms/step - loss: 0.5468 - accuracy: 0.8130 - val_loss: 0.3325 - val_accuracy: 0.9135\n",
            "Epoch 8/30\n",
            "250/250 [==============================] - 18s 70ms/step - loss: 0.4929 - accuracy: 0.8401 - val_loss: 0.3612 - val_accuracy: 0.8985\n",
            "Epoch 9/30\n",
            "250/250 [==============================] - 17s 69ms/step - loss: 0.4692 - accuracy: 0.8565 - val_loss: 0.7323 - val_accuracy: 0.7260\n",
            "Epoch 10/30\n",
            "250/250 [==============================] - 19s 76ms/step - loss: 0.4523 - accuracy: 0.8597 - val_loss: 0.5636 - val_accuracy: 0.8045\n",
            "Epoch 11/30\n",
            "250/250 [==============================] - 17s 70ms/step - loss: 0.4176 - accuracy: 0.8627 - val_loss: 0.3381 - val_accuracy: 0.9210\n",
            "Epoch 12/30\n",
            "250/250 [==============================] - 17s 69ms/step - loss: 0.4281 - accuracy: 0.8685 - val_loss: 0.3593 - val_accuracy: 0.9220\n",
            "Epoch 13/30\n",
            "250/250 [==============================] - 18s 73ms/step - loss: 0.3860 - accuracy: 0.8821 - val_loss: 0.2531 - val_accuracy: 0.9400\n",
            "Epoch 14/30\n",
            "250/250 [==============================] - 17s 69ms/step - loss: 0.3768 - accuracy: 0.8889 - val_loss: 0.8659 - val_accuracy: 0.7485\n",
            "Epoch 15/30\n",
            "250/250 [==============================] - 18s 73ms/step - loss: 0.3319 - accuracy: 0.9110 - val_loss: 0.2723 - val_accuracy: 0.9465\n",
            "Epoch 16/30\n",
            "250/250 [==============================] - 17s 69ms/step - loss: 0.3351 - accuracy: 0.9084 - val_loss: 0.8009 - val_accuracy: 0.8005\n",
            "Epoch 17/30\n",
            "250/250 [==============================] - 18s 73ms/step - loss: 0.3050 - accuracy: 0.9206 - val_loss: 0.2731 - val_accuracy: 0.9485\n",
            "Epoch 18/30\n",
            "250/250 [==============================] - 17s 69ms/step - loss: 0.2834 - accuracy: 0.9262 - val_loss: 0.2544 - val_accuracy: 0.9725\n",
            "Epoch 19/30\n",
            "250/250 [==============================] - 17s 70ms/step - loss: 0.2773 - accuracy: 0.9256 - val_loss: 0.3755 - val_accuracy: 0.9390\n",
            "Epoch 20/30\n",
            "250/250 [==============================] - 17s 69ms/step - loss: 0.2954 - accuracy: 0.9276 - val_loss: 0.4612 - val_accuracy: 0.8915\n",
            "Epoch 21/30\n",
            "250/250 [==============================] - 18s 74ms/step - loss: 0.2833 - accuracy: 0.9283 - val_loss: 0.4345 - val_accuracy: 0.8610\n",
            "Epoch 22/30\n",
            "250/250 [==============================] - 17s 69ms/step - loss: 0.2795 - accuracy: 0.9319 - val_loss: 0.3032 - val_accuracy: 0.9175\n",
            "Epoch 23/30\n",
            "250/250 [==============================] - 19s 76ms/step - loss: 0.2630 - accuracy: 0.9400 - val_loss: 0.6639 - val_accuracy: 0.8525\n",
            "Epoch 24/30\n",
            "250/250 [==============================] - 17s 69ms/step - loss: 0.2691 - accuracy: 0.9360 - val_loss: 0.3942 - val_accuracy: 0.9165\n",
            "Epoch 25/30\n",
            "250/250 [==============================] - 18s 73ms/step - loss: 0.2454 - accuracy: 0.9415 - val_loss: 0.4833 - val_accuracy: 0.9070\n",
            "Epoch 26/30\n",
            "250/250 [==============================] - 18s 70ms/step - loss: 0.2439 - accuracy: 0.9438 - val_loss: 0.7651 - val_accuracy: 0.8325\n",
            "Epoch 27/30\n",
            "250/250 [==============================] - 17s 69ms/step - loss: 0.2617 - accuracy: 0.9411 - val_loss: 2.0463 - val_accuracy: 0.7040\n",
            "Epoch 28/30\n",
            "250/250 [==============================] - 18s 73ms/step - loss: 0.2602 - accuracy: 0.9415 - val_loss: 0.2919 - val_accuracy: 0.9770\n",
            "Epoch 29/30\n",
            "250/250 [==============================] - 17s 70ms/step - loss: 0.2378 - accuracy: 0.9474 - val_loss: 0.3504 - val_accuracy: 0.9365\n",
            "Epoch 30/30\n",
            "250/250 [==============================] - 18s 72ms/step - loss: 0.2393 - accuracy: 0.9480 - val_loss: 0.4832 - val_accuracy: 0.9055\n"
          ]
        }
      ]
    },
    {
      "cell_type": "code",
      "source": [
        "# Evaluate the model\n",
        "model.evaluate(X_val, y_val)"
      ],
      "metadata": {
        "id": "QoeneNqLZt9P",
        "colab": {
          "base_uri": "https://localhost:8080/"
        },
        "outputId": "421c63bc-7092-496d-bc02-f02cc0796aa0"
      },
      "execution_count": 8,
      "outputs": [
        {
          "output_type": "stream",
          "name": "stdout",
          "text": [
            "63/63 [==============================] - 1s 17ms/step - loss: 0.4832 - accuracy: 0.9055\n"
          ]
        },
        {
          "output_type": "execute_result",
          "data": {
            "text/plain": [
              "[0.48315611481666565, 0.9054999947547913]"
            ]
          },
          "metadata": {},
          "execution_count": 8
        }
      ]
    },
    {
      "cell_type": "code",
      "source": [],
      "metadata": {
        "id": "_v4JFEGnZt_3",
        "colab": {
          "base_uri": "https://localhost:8080/",
          "height": 140
        },
        "outputId": "00b0f86f-0879-4e8b-d0d6-801fd8e55947"
      },
      "execution_count": 36,
      "outputs": [
        {
          "output_type": "error",
          "ename": "SyntaxError",
          "evalue": "ignored",
          "traceback": [
            "\u001b[0;36m  File \u001b[0;32m\"<ipython-input-36-31384f52a8c4>\"\u001b[0;36m, line \u001b[0;32m1\u001b[0m\n\u001b[0;31m    now i get error: ValueError: Shapes (32, 1) and (32, 6) are incompatible\u001b[0m\n\u001b[0m        ^\u001b[0m\n\u001b[0;31mSyntaxError\u001b[0m\u001b[0;31m:\u001b[0m invalid syntax\n"
          ]
        }
      ]
    },
    {
      "cell_type": "code",
      "source": [],
      "metadata": {
        "id": "30pBSUwVpJym"
      },
      "execution_count": null,
      "outputs": []
    }
  ]
}